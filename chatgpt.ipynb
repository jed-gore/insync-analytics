{
 "cells": [
  {
   "cell_type": "code",
   "execution_count": 1,
   "metadata": {},
   "outputs": [],
   "source": [
    "replacers = {'Q/Q': 'quarter over quarter growth in ',\n",
    " 'Y/Y': 'year over year growth in ',\n",
    " 'TTM': 'trailing twelve months',\n",
    " '/': ' per ',\n",
    " '$': 'dollars of ',\n",
    " \"IS\":'income statement',\n",
    " 'BS':'balance sheet',\n",
    " 'KM':'key metrics'}"
   ]
  },
  {
   "cell_type": "code",
   "execution_count": 2,
   "metadata": {},
   "outputs": [],
   "source": [
    "\n",
    "from src.data_objects import *\n",
    "import json\n",
    "import pandas as pd\n",
    "\n",
    "import pandas_gpt\n",
    "import openai\n",
    "with open(\"data_sources.json\") as f:\n",
    "    data = f.read()\n",
    "\n",
    "js = json.loads(data)\n",
    "\n",
    "key = js[\"openai\"]['api_key']\n",
    "\n"
   ]
  },
  {
   "cell_type": "code",
   "execution_count": 53,
   "metadata": {},
   "outputs": [],
   "source": [
    "focus_list = [\"ADBE\", \"AMZN\", \"LMT\", \"LOW\", \"ORLY\"]\n",
    "pm = Portfolio(focus_list)\n",
    "pm.get_fundamental_data()"
   ]
  },
  {
   "cell_type": "code",
   "execution_count": 54,
   "metadata": {},
   "outputs": [],
   "source": [
    "df = pm.fundamentals\n",
    "df.columns\n",
    "df['KPI']=df['lineitem']\n",
    "df = df.drop(columns=['lineitem'])"
   ]
  },
  {
   "cell_type": "code",
   "execution_count": 55,
   "metadata": {},
   "outputs": [
    {
     "name": "stderr",
     "output_type": "stream",
     "text": [
      "/tmp/ipykernel_21432/2615438567.py:2: FutureWarning: The default value of regex will change from True to False in a future version.\n",
      "  df.KPI.str.replace('[...…]','')\n",
      "/tmp/ipykernel_21432/2615438567.py:7: FutureWarning: The default value of regex will change from True to False in a future version.\n",
      "  df.category.str.replace('[...…]','')\n"
     ]
    }
   ],
   "source": [
    "df['KPI'] = (\n",
    "    df.KPI.str.replace('[...…]','')\n",
    "    .str.split()\n",
    "    .apply(lambda x: ' '.join([replacers.get(e, e) for e in x]))\n",
    ")\n",
    "df['category'] = (\n",
    "    df.category.str.replace('[...…]','')\n",
    "    .str.split()\n",
    "    .apply(lambda x: ' '.join([replacers.get(e, e) for e in x]))\n",
    ")"
   ]
  },
  {
   "cell_type": "code",
   "execution_count": 56,
   "metadata": {},
   "outputs": [],
   "source": [
    "df = df[['ticker', 'year', 'quarter',\n",
    "       'numberonly', 'category',\n",
    "       'KPI']]\n",
    "df['value'] = df['numberonly']\n",
    "df = df.drop(columns = ['numberonly'])"
   ]
  },
  {
   "cell_type": "code",
   "execution_count": 7,
   "metadata": {},
   "outputs": [],
   "source": [
    "if key == '':\n",
    "    print(f\"get an api key at https://platform.openai.com/account/api-keys\")\n",
    "else:\n",
    "    openai.api_key = key"
   ]
  },
  {
   "cell_type": "code",
   "execution_count": 57,
   "metadata": {},
   "outputs": [
    {
     "name": "stdout",
     "output_type": "stream",
     "text": [
      "['Revenue' 'Expense']\n"
     ]
    },
    {
     "data": {
      "text/plain": [
       "array(['income statement', 'CF', 'balance sheet', 'SD', 'key metrics'],\n",
       "      dtype=object)"
      ]
     },
     "execution_count": 57,
     "metadata": {},
     "output_type": "execute_result"
    }
   ],
   "source": [
    "df.ask(\"all key metrics category\")\n"
   ]
  },
  {
   "cell_type": "code",
   "execution_count": 58,
   "metadata": {},
   "outputs": [
    {
     "data": {
      "text/plain": [
       "array([], dtype=object)"
      ]
     },
     "execution_count": 58,
     "metadata": {},
     "output_type": "execute_result"
    }
   ],
   "source": [
    "df.ask(\"all KPI which are category key metrics\")"
   ]
  }
 ],
 "metadata": {
  "kernelspec": {
   "display_name": "Python 3",
   "language": "python",
   "name": "python3"
  },
  "language_info": {
   "codemirror_mode": {
    "name": "ipython",
    "version": 3
   },
   "file_extension": ".py",
   "mimetype": "text/x-python",
   "name": "python",
   "nbconvert_exporter": "python",
   "pygments_lexer": "ipython3",
   "version": "3.10.6"
  },
  "orig_nbformat": 4
 },
 "nbformat": 4,
 "nbformat_minor": 2
}
